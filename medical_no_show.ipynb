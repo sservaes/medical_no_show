{
 "cells": [
  {
   "cell_type": "markdown",
   "metadata": {},
   "source": [
    "# Predicting a 'no show' for a medical appointment based on historical data\n",
    "This notebook uses a historical dataset from 2016 to predict someone not showing up for a medical appointment.\n",
    "## Packages\n",
    "The following packages were used."
   ]
  },
  {
   "cell_type": "code",
   "execution_count": 567,
   "metadata": {},
   "outputs": [],
   "source": [
    "import numpy as np\n",
    "import pandas as pd\n",
    "from sklearn.metrics import classification_report\n",
    "from sklearn.preprocessing import RobustScaler\n",
    "from sklearn.model_selection import train_test_split\n",
    "from skopt import BayesSearchCV\n",
    "from sklearn.model_selection import KFold\n",
    "from sklearn import metrics\n",
    "from sklearn.pipeline import Pipeline\n",
    "from sklearn.model_selection import cross_val_score\n",
    "from imblearn.over_sampling import SMOTE\n",
    "import matplotlib.pyplot as plt\n",
    "from sklearn.tree import DecisionTreeClassifier\n",
    "from sklearn.ensemble import RandomForestClassifier\n",
    "from sklearn.ensemble import AdaBoostClassifier\n",
    "from xgboost import XGBClassifier\n",
    "from sklearn.neighbors import KNeighborsClassifier\n",
    "from sklearn.linear_model import LogisticRegression\n"
   ]
  },
  {
   "cell_type": "markdown",
   "metadata": {},
   "source": [
    "## Data input\n",
    "First the dataset was read in."
   ]
  },
  {
   "cell_type": "code",
   "execution_count": 503,
   "metadata": {},
   "outputs": [
    {
     "name": "stdout",
     "output_type": "stream",
     "text": [
      "Count of rows 110527\n",
      "Count of Columns 14\n"
     ]
    },
    {
     "data": {
      "text/html": [
       "<div>\n",
       "<style scoped>\n",
       "    .dataframe tbody tr th:only-of-type {\n",
       "        vertical-align: middle;\n",
       "    }\n",
       "\n",
       "    .dataframe tbody tr th {\n",
       "        vertical-align: top;\n",
       "    }\n",
       "\n",
       "    .dataframe thead th {\n",
       "        text-align: right;\n",
       "    }\n",
       "</style>\n",
       "<table border=\"1\" class=\"dataframe\">\n",
       "  <thead>\n",
       "    <tr style=\"text-align: right;\">\n",
       "      <th></th>\n",
       "      <th>PatientId</th>\n",
       "      <th>AppointmentID</th>\n",
       "      <th>Gender</th>\n",
       "      <th>ScheduledDay</th>\n",
       "      <th>AppointmentDay</th>\n",
       "      <th>Age</th>\n",
       "      <th>Neighbourhood</th>\n",
       "      <th>Scholarship</th>\n",
       "      <th>Hipertension</th>\n",
       "      <th>Diabetes</th>\n",
       "      <th>Alcoholism</th>\n",
       "      <th>Handcap</th>\n",
       "      <th>SMS_received</th>\n",
       "      <th>No-show</th>\n",
       "    </tr>\n",
       "  </thead>\n",
       "  <tbody>\n",
       "    <tr>\n",
       "      <th>0</th>\n",
       "      <td>2.987250e+13</td>\n",
       "      <td>5642903</td>\n",
       "      <td>F</td>\n",
       "      <td>2016-04-29T18:38:08Z</td>\n",
       "      <td>2016-04-29T00:00:00Z</td>\n",
       "      <td>62</td>\n",
       "      <td>JARDIM DA PENHA</td>\n",
       "      <td>0</td>\n",
       "      <td>1</td>\n",
       "      <td>0</td>\n",
       "      <td>0</td>\n",
       "      <td>0</td>\n",
       "      <td>0</td>\n",
       "      <td>No</td>\n",
       "    </tr>\n",
       "    <tr>\n",
       "      <th>1</th>\n",
       "      <td>5.589978e+14</td>\n",
       "      <td>5642503</td>\n",
       "      <td>M</td>\n",
       "      <td>2016-04-29T16:08:27Z</td>\n",
       "      <td>2016-04-29T00:00:00Z</td>\n",
       "      <td>56</td>\n",
       "      <td>JARDIM DA PENHA</td>\n",
       "      <td>0</td>\n",
       "      <td>0</td>\n",
       "      <td>0</td>\n",
       "      <td>0</td>\n",
       "      <td>0</td>\n",
       "      <td>0</td>\n",
       "      <td>No</td>\n",
       "    </tr>\n",
       "    <tr>\n",
       "      <th>2</th>\n",
       "      <td>4.262962e+12</td>\n",
       "      <td>5642549</td>\n",
       "      <td>F</td>\n",
       "      <td>2016-04-29T16:19:04Z</td>\n",
       "      <td>2016-04-29T00:00:00Z</td>\n",
       "      <td>62</td>\n",
       "      <td>MATA DA PRAIA</td>\n",
       "      <td>0</td>\n",
       "      <td>0</td>\n",
       "      <td>0</td>\n",
       "      <td>0</td>\n",
       "      <td>0</td>\n",
       "      <td>0</td>\n",
       "      <td>No</td>\n",
       "    </tr>\n",
       "    <tr>\n",
       "      <th>3</th>\n",
       "      <td>8.679512e+11</td>\n",
       "      <td>5642828</td>\n",
       "      <td>F</td>\n",
       "      <td>2016-04-29T17:29:31Z</td>\n",
       "      <td>2016-04-29T00:00:00Z</td>\n",
       "      <td>8</td>\n",
       "      <td>PONTAL DE CAMBURI</td>\n",
       "      <td>0</td>\n",
       "      <td>0</td>\n",
       "      <td>0</td>\n",
       "      <td>0</td>\n",
       "      <td>0</td>\n",
       "      <td>0</td>\n",
       "      <td>No</td>\n",
       "    </tr>\n",
       "    <tr>\n",
       "      <th>4</th>\n",
       "      <td>8.841186e+12</td>\n",
       "      <td>5642494</td>\n",
       "      <td>F</td>\n",
       "      <td>2016-04-29T16:07:23Z</td>\n",
       "      <td>2016-04-29T00:00:00Z</td>\n",
       "      <td>56</td>\n",
       "      <td>JARDIM DA PENHA</td>\n",
       "      <td>0</td>\n",
       "      <td>1</td>\n",
       "      <td>1</td>\n",
       "      <td>0</td>\n",
       "      <td>0</td>\n",
       "      <td>0</td>\n",
       "      <td>No</td>\n",
       "    </tr>\n",
       "  </tbody>\n",
       "</table>\n",
       "</div>"
      ],
      "text/plain": [
       "      PatientId  AppointmentID Gender          ScheduledDay  \\\n",
       "0  2.987250e+13        5642903      F  2016-04-29T18:38:08Z   \n",
       "1  5.589978e+14        5642503      M  2016-04-29T16:08:27Z   \n",
       "2  4.262962e+12        5642549      F  2016-04-29T16:19:04Z   \n",
       "3  8.679512e+11        5642828      F  2016-04-29T17:29:31Z   \n",
       "4  8.841186e+12        5642494      F  2016-04-29T16:07:23Z   \n",
       "\n",
       "         AppointmentDay  Age      Neighbourhood  Scholarship  Hipertension  \\\n",
       "0  2016-04-29T00:00:00Z   62    JARDIM DA PENHA            0             1   \n",
       "1  2016-04-29T00:00:00Z   56    JARDIM DA PENHA            0             0   \n",
       "2  2016-04-29T00:00:00Z   62      MATA DA PRAIA            0             0   \n",
       "3  2016-04-29T00:00:00Z    8  PONTAL DE CAMBURI            0             0   \n",
       "4  2016-04-29T00:00:00Z   56    JARDIM DA PENHA            0             1   \n",
       "\n",
       "   Diabetes  Alcoholism  Handcap  SMS_received No-show  \n",
       "0         0           0        0             0      No  \n",
       "1         0           0        0             0      No  \n",
       "2         0           0        0             0      No  \n",
       "3         0           0        0             0      No  \n",
       "4         1           0        0             0      No  "
      ]
     },
     "execution_count": 503,
     "metadata": {},
     "output_type": "execute_result"
    }
   ],
   "source": [
    "df = pd.read_csv('data/medical_no_show.csv')\n",
    "print('Count of rows', str(df.shape[0]))\n",
    "print('Count of Columns', str(df.shape[1]))\n",
    "df.head()"
   ]
  },
  {
   "cell_type": "markdown",
   "metadata": {},
   "source": [
    "In the next part we check for missing data."
   ]
  },
  {
   "cell_type": "code",
   "execution_count": 504,
   "metadata": {},
   "outputs": [
    {
     "data": {
      "text/plain": [
       "False"
      ]
     },
     "execution_count": 504,
     "metadata": {},
     "output_type": "execute_result"
    }
   ],
   "source": [
    "df.isnull().any().any()"
   ]
  },
  {
   "cell_type": "markdown",
   "metadata": {},
   "source": [
    "As no missing data was found, we proceeded with verifying the dtypes for each of the columns."
   ]
  },
  {
   "cell_type": "code",
   "execution_count": 505,
   "metadata": {},
   "outputs": [
    {
     "data": {
      "text/plain": [
       "PatientId         float64\n",
       "AppointmentID       int64\n",
       "Gender             object\n",
       "ScheduledDay       object\n",
       "AppointmentDay     object\n",
       "Age                 int64\n",
       "Neighbourhood      object\n",
       "Scholarship         int64\n",
       "Hipertension        int64\n",
       "Diabetes            int64\n",
       "Alcoholism          int64\n",
       "Handcap             int64\n",
       "SMS_received        int64\n",
       "No-show            object\n",
       "dtype: object"
      ]
     },
     "execution_count": 505,
     "metadata": {},
     "output_type": "execute_result"
    }
   ],
   "source": [
    "df.dtypes"
   ]
  },
  {
   "cell_type": "markdown",
   "metadata": {},
   "source": [
    "Furthermore, we check how many unique values there are for each column."
   ]
  },
  {
   "cell_type": "code",
   "execution_count": 506,
   "metadata": {},
   "outputs": [
    {
     "name": "stdout",
     "output_type": "stream",
     "text": [
      "PatientId: 62299\n",
      "AppointmentID: 110527\n",
      "Gender: 2\n",
      "ScheduledDay: 103549\n",
      "AppointmentDay: 27\n",
      "Age: 104\n",
      "Neighbourhood: 81\n",
      "Scholarship: 2\n",
      "Hipertension: 2\n",
      "Diabetes: 2\n",
      "Alcoholism: 2\n",
      "Handcap: 5\n",
      "SMS_received: 2\n",
      "No-show: 2\n"
     ]
    }
   ],
   "source": [
    "for i in df.columns:\n",
    "    print(i+\":\",len(df[i].unique()))"
   ]
  },
  {
   "cell_type": "markdown",
   "metadata": {},
   "source": [
    "## Data Cleaning\n",
    "First all column names are converted lowercase to achieve consistency."
   ]
  },
  {
   "cell_type": "code",
   "execution_count": 507,
   "metadata": {},
   "outputs": [],
   "source": [
    "df.columns = df.columns.str.lower().str.strip()"
   ]
  },
  {
   "cell_type": "markdown",
   "metadata": {},
   "source": [
    "The `appointmentid` is set as index for the dataset."
   ]
  },
  {
   "cell_type": "code",
   "execution_count": 508,
   "metadata": {},
   "outputs": [],
   "source": [
    "df.set_index('appointmentid', inplace = True)"
   ]
  },
  {
   "cell_type": "markdown",
   "metadata": {},
   "source": [
    "`patientid` needs to be converted to `int`.  \n",
    "`no-show` needs to be converted to `int`.  \n",
    "`gender` needs to be converted to `int`.  "
   ]
  },
  {
   "cell_type": "code",
   "execution_count": 509,
   "metadata": {},
   "outputs": [],
   "source": [
    "df['patientid'] = df['patientid'].astype('int64')\n",
    "df['no-show'] = df['no-show'].map({'No':0, 'Yes':1})\n",
    "df['gender'] = df['gender'].map({'F':0, 'M':1})"
   ]
  },
  {
   "cell_type": "markdown",
   "metadata": {},
   "source": [
    "The following code allows for the inclusion of `neighbourhood` is converted using one hot encoding. However, due to little value and overcomplication of the model, this variable was not included further down the line."
   ]
  },
  {
   "cell_type": "code",
   "execution_count": 510,
   "metadata": {},
   "outputs": [],
   "source": [
    "# df = pd.get_dummies(df, columns = ['neighbourhood'])\n",
    "# df.columns = df.columns.str.lower().str.strip()"
   ]
  },
  {
   "cell_type": "markdown",
   "metadata": {},
   "source": [
    "A couple of features were added:\n",
    "- `num_app`: count how many previous appointments the patient has had (starting with 0)\n",
    "- `apps_missed`: number of appointments missed previously\n",
    "- `previous_noshow`: percentage of previously missed appointments"
   ]
  },
  {
   "cell_type": "code",
   "execution_count": 511,
   "metadata": {},
   "outputs": [],
   "source": [
    "df['num_app'] = df.sort_values(by = ['patientid','scheduledday']).groupby(['patientid']).cumcount() + 1\n",
    "df['apps_missed'] = df.sort_values(by = ['patientid','scheduledday']).groupby(['patientid'])['no-show'].cumsum().shift(1, axis = 0)\n",
    "df['noshow_pct'] = df['apps_missed'] / (df.sort_values(by = ['patientid','scheduledday']).groupby(['patientid'])['num_app'].shift(1, axis =0))\n",
    "df['noshow_pct'].fillna(0, inplace = True)\n",
    "df['apps_missed'].fillna(0, inplace = True)"
   ]
  },
  {
   "cell_type": "markdown",
   "metadata": {},
   "source": [
    "Below is an example of a patient that has had multiple appointments and missed some as well."
   ]
  },
  {
   "cell_type": "code",
   "execution_count": 512,
   "metadata": {},
   "outputs": [
    {
     "data": {
      "text/html": [
       "<div>\n",
       "<style scoped>\n",
       "    .dataframe tbody tr th:only-of-type {\n",
       "        vertical-align: middle;\n",
       "    }\n",
       "\n",
       "    .dataframe tbody tr th {\n",
       "        vertical-align: top;\n",
       "    }\n",
       "\n",
       "    .dataframe thead th {\n",
       "        text-align: right;\n",
       "    }\n",
       "</style>\n",
       "<table border=\"1\" class=\"dataframe\">\n",
       "  <thead>\n",
       "    <tr style=\"text-align: right;\">\n",
       "      <th></th>\n",
       "      <th>scheduledday</th>\n",
       "      <th>no-show</th>\n",
       "      <th>num_app</th>\n",
       "      <th>noshow_pct</th>\n",
       "      <th>apps_missed</th>\n",
       "    </tr>\n",
       "    <tr>\n",
       "      <th>appointmentid</th>\n",
       "      <th></th>\n",
       "      <th></th>\n",
       "      <th></th>\n",
       "      <th></th>\n",
       "      <th></th>\n",
       "    </tr>\n",
       "  </thead>\n",
       "  <tbody>\n",
       "    <tr>\n",
       "      <th>5566277</th>\n",
       "      <td>2016-04-11T10:09:42Z</td>\n",
       "      <td>0</td>\n",
       "      <td>1</td>\n",
       "      <td>0.000000</td>\n",
       "      <td>0.0</td>\n",
       "    </tr>\n",
       "    <tr>\n",
       "      <th>5640434</th>\n",
       "      <td>2016-04-29T10:43:19Z</td>\n",
       "      <td>0</td>\n",
       "      <td>2</td>\n",
       "      <td>0.000000</td>\n",
       "      <td>0.0</td>\n",
       "    </tr>\n",
       "    <tr>\n",
       "      <th>5640443</th>\n",
       "      <td>2016-04-29T10:44:22Z</td>\n",
       "      <td>1</td>\n",
       "      <td>3</td>\n",
       "      <td>0.000000</td>\n",
       "      <td>0.0</td>\n",
       "    </tr>\n",
       "    <tr>\n",
       "      <th>5653643</th>\n",
       "      <td>2016-05-03T12:59:01Z</td>\n",
       "      <td>0</td>\n",
       "      <td>4</td>\n",
       "      <td>0.333333</td>\n",
       "      <td>1.0</td>\n",
       "    </tr>\n",
       "    <tr>\n",
       "      <th>5674766</th>\n",
       "      <td>2016-05-09T11:52:43Z</td>\n",
       "      <td>1</td>\n",
       "      <td>5</td>\n",
       "      <td>0.250000</td>\n",
       "      <td>1.0</td>\n",
       "    </tr>\n",
       "    <tr>\n",
       "      <th>5685329</th>\n",
       "      <td>2016-05-11T10:10:16Z</td>\n",
       "      <td>0</td>\n",
       "      <td>6</td>\n",
       "      <td>0.400000</td>\n",
       "      <td>2.0</td>\n",
       "    </tr>\n",
       "    <tr>\n",
       "      <th>5685501</th>\n",
       "      <td>2016-05-11T10:30:03Z</td>\n",
       "      <td>0</td>\n",
       "      <td>7</td>\n",
       "      <td>0.333333</td>\n",
       "      <td>2.0</td>\n",
       "    </tr>\n",
       "    <tr>\n",
       "      <th>5716528</th>\n",
       "      <td>2016-05-18T17:48:31Z</td>\n",
       "      <td>0</td>\n",
       "      <td>8</td>\n",
       "      <td>0.285714</td>\n",
       "      <td>2.0</td>\n",
       "    </tr>\n",
       "    <tr>\n",
       "      <th>5716529</th>\n",
       "      <td>2016-05-18T17:48:31Z</td>\n",
       "      <td>0</td>\n",
       "      <td>9</td>\n",
       "      <td>0.250000</td>\n",
       "      <td>2.0</td>\n",
       "    </tr>\n",
       "    <tr>\n",
       "      <th>5719659</th>\n",
       "      <td>2016-05-19T11:45:34Z</td>\n",
       "      <td>0</td>\n",
       "      <td>10</td>\n",
       "      <td>0.222222</td>\n",
       "      <td>2.0</td>\n",
       "    </tr>\n",
       "    <tr>\n",
       "      <th>5726818</th>\n",
       "      <td>2016-05-20T14:26:10Z</td>\n",
       "      <td>0</td>\n",
       "      <td>11</td>\n",
       "      <td>0.200000</td>\n",
       "      <td>2.0</td>\n",
       "    </tr>\n",
       "    <tr>\n",
       "      <th>5739407</th>\n",
       "      <td>2016-05-25T13:29:23Z</td>\n",
       "      <td>1</td>\n",
       "      <td>12</td>\n",
       "      <td>0.181818</td>\n",
       "      <td>2.0</td>\n",
       "    </tr>\n",
       "  </tbody>\n",
       "</table>\n",
       "</div>"
      ],
      "text/plain": [
       "                       scheduledday  no-show  num_app  noshow_pct  apps_missed\n",
       "appointmentid                                                                 \n",
       "5566277        2016-04-11T10:09:42Z        0        1    0.000000          0.0\n",
       "5640434        2016-04-29T10:43:19Z        0        2    0.000000          0.0\n",
       "5640443        2016-04-29T10:44:22Z        1        3    0.000000          0.0\n",
       "5653643        2016-05-03T12:59:01Z        0        4    0.333333          1.0\n",
       "5674766        2016-05-09T11:52:43Z        1        5    0.250000          1.0\n",
       "5685329        2016-05-11T10:10:16Z        0        6    0.400000          2.0\n",
       "5685501        2016-05-11T10:30:03Z        0        7    0.333333          2.0\n",
       "5716528        2016-05-18T17:48:31Z        0        8    0.285714          2.0\n",
       "5716529        2016-05-18T17:48:31Z        0        9    0.250000          2.0\n",
       "5719659        2016-05-19T11:45:34Z        0       10    0.222222          2.0\n",
       "5726818        2016-05-20T14:26:10Z        0       11    0.200000          2.0\n",
       "5739407        2016-05-25T13:29:23Z        1       12    0.181818          2.0"
      ]
     },
     "execution_count": 512,
     "metadata": {},
     "output_type": "execute_result"
    }
   ],
   "source": [
    "df[df['patientid'] == 838284762259].sort_values(by = ['patientid','scheduledday'])[['scheduledday', 'no-show', 'num_app', 'noshow_pct', 'apps_missed']]"
   ]
  },
  {
   "cell_type": "markdown",
   "metadata": {},
   "source": [
    "Convert `scheduledday` and `appointmentday` to the datetime format."
   ]
  },
  {
   "cell_type": "code",
   "execution_count": 513,
   "metadata": {},
   "outputs": [],
   "source": [
    "df['scheduledday'] = pd.to_datetime(df['scheduledday']).dt.strftime('%Y-%m-%d')\n",
    "df['scheduledday'] = pd.to_datetime(df['scheduledday'])\n",
    "df['appointmentday'] = pd.to_datetime(df['appointmentday']).dt.strftime('%Y-%m-%d')\n",
    "df['appointmentday'] = pd.to_datetime(df['appointmentday'])"
   ]
  },
  {
   "cell_type": "markdown",
   "metadata": {},
   "source": [
    "Calculate the difference between the day that the appointment was scheduled and when the appointment actually occurred.  \n",
    "Next we filter out those that have a difference less than zero, as this is likely erroneous data where the appointment occurred before the scheduled date.  \n",
    "Also, people with an age lower or equal to 0 are filtered out, as these are likely wrong entries."
   ]
  },
  {
   "cell_type": "code",
   "execution_count": 514,
   "metadata": {},
   "outputs": [],
   "source": [
    "df['day_diff'] = (df['appointmentday'] - df['scheduledday']).dt.days\n",
    "# Filter by day_diff\n",
    "df = df[df['day_diff'] >= 0]\n",
    "# Filter by age\n",
    "df = df[df['age'] > 0]"
   ]
  },
  {
   "cell_type": "markdown",
   "metadata": {},
   "source": [
    "Dummy variables are generated for `handcap` in the next step."
   ]
  },
  {
   "cell_type": "code",
   "execution_count": 515,
   "metadata": {},
   "outputs": [],
   "source": [
    "# Convert to Categorical\n",
    "df['handcap'] = pd.Categorical(df['handcap'])\n",
    "# Convert to Dummy Variables\n",
    "Handicap = pd.get_dummies(df['handcap'], prefix = 'handicap')\n",
    "df = pd.concat([df, Handicap], axis=1)"
   ]
  },
  {
   "cell_type": "markdown",
   "metadata": {},
   "source": [
    "Unnecessary columns are subsequently dropped."
   ]
  },
  {
   "cell_type": "code",
   "execution_count": 516,
   "metadata": {},
   "outputs": [],
   "source": [
    "df.drop(['scheduledday'], axis=1, inplace=True)\n",
    "df.drop(['appointmentday'], axis=1, inplace=True)\n",
    "df.drop(['handcap'], axis=1, inplace = True)\n",
    "df.drop(['neighbourhood'], axis=1, inplace = True)"
   ]
  },
  {
   "cell_type": "markdown",
   "metadata": {},
   "source": [
    "## Exploratory analysis"
   ]
  },
  {
   "cell_type": "markdown",
   "metadata": {},
   "source": [
    "## Machine learning"
   ]
  },
  {
   "cell_type": "markdown",
   "metadata": {},
   "source": [
    "A random seed was set to ensure reproducability of the data."
   ]
  },
  {
   "cell_type": "code",
   "execution_count": 517,
   "metadata": {},
   "outputs": [],
   "source": [
    "np.random.seed(123)"
   ]
  },
  {
   "cell_type": "markdown",
   "metadata": {},
   "source": [
    "80% of the time people did show up for an appointment, leading to an inbalanced dataset.  \n",
    "Just always predicting 0, therefore already leads to an accuracy of 80%, making this scoring parameter not very useful.  \n",
    "As we are more interested in the positive class, average precision and f1 scores will be used to evaluate different models."
   ]
  },
  {
   "cell_type": "code",
   "execution_count": 518,
   "metadata": {},
   "outputs": [
    {
     "data": {
      "text/plain": [
       "0    0.797396\n",
       "1    0.202604\n",
       "Name: no-show, dtype: float64"
      ]
     },
     "execution_count": 518,
     "metadata": {},
     "output_type": "execute_result"
    }
   ],
   "source": [
    "df['no-show'].value_counts(normalize=True)"
   ]
  },
  {
   "cell_type": "markdown",
   "metadata": {},
   "source": [
    "Scaling of the data occurred using a robust scaler, after removing some columns irrelevant for training."
   ]
  },
  {
   "cell_type": "code",
   "execution_count": 539,
   "metadata": {},
   "outputs": [],
   "source": [
    "X = df.drop(['no-show', 'patientid'], axis=1)\n",
    "y = df['no-show']\n",
    "scaler = RobustScaler()\n",
    "X = scaler.fit_transform(X)"
   ]
  },
  {
   "cell_type": "markdown",
   "metadata": {},
   "source": [
    "Next the dataset is split into a training and test set after shuffling and stratification.  \n",
    "To increase the importance of the positive class, upsampling of this class was done using SMOTE (Synthetic Minority Oversampling technique)."
   ]
  },
  {
   "cell_type": "code",
   "execution_count": 550,
   "metadata": {},
   "outputs": [],
   "source": [
    "sm = SMOTE(random_state=123)\n",
    "\n",
    "X_train, X_test, y_train, y_test = train_test_split(X, y, shuffle=True, stratify = y, test_size = 0.3, random_state=123)\n",
    "X_train, y_train = sm.fit_resample(X_train, y_train)"
   ]
  },
  {
   "cell_type": "code",
   "execution_count": 551,
   "metadata": {},
   "outputs": [
    {
     "name": "stdout",
     "output_type": "stream",
     "text": [
      "avg precision:  0.6146347402735074\n",
      "std precision:  0.0018194094885900743\n"
     ]
    }
   ],
   "source": [
    "lr = LogisticRegression(solver='newton-cg',)\n",
    "lr.fit(X_train, y_train)\n",
    "\n",
    "y_pred_lr = lr.predict(X_train)\n",
    "\n",
    "avg_f1 = cross_val_score(estimator = lr, X = X_train, y =y_train, cv = 10, scoring='f1')\n",
    "print(\"avg f1: \", np.mean(avg_f1))\n",
    "print(\"std f1: \", np.std(avg_f1))"
   ]
  },
  {
   "cell_type": "code",
   "execution_count": 552,
   "metadata": {},
   "outputs": [
    {
     "name": "stdout",
     "output_type": "stream",
     "text": [
      "avg precision:  0.761949007566662\n",
      "std precision:  0.013301899037296065\n"
     ]
    }
   ],
   "source": [
    "knn = KNeighborsClassifier()\n",
    "knn.fit(X_train, y_train)\n",
    "\n",
    "y_pred_knn = knn.predict(X_train)\n",
    "\n",
    "avg_f1 = cross_val_score(estimator = knn, X = X_train, y =y_train, cv = 10, scoring='f1')\n",
    "print(\"avg f1: \", np.mean(avg_f1))\n",
    "print(\"std f1: \", np.std(avg_f1))"
   ]
  },
  {
   "cell_type": "code",
   "execution_count": 553,
   "metadata": {},
   "outputs": [
    {
     "name": "stdout",
     "output_type": "stream",
     "text": [
      "avg precision:  0.7726162133466541\n",
      "std precision:  0.15745719082806495\n"
     ]
    }
   ],
   "source": [
    "dtc = DecisionTreeClassifier()\n",
    "dtc.fit(X_train, y_train)\n",
    "\n",
    "y_pred_dtc = dtc.predict(X_train)\n",
    "clf_report = classification_report(y_train, y_pred_dtc)\n",
    "\n",
    "avg_f1 = cross_val_score(estimator = dtc, X = X_train, y =y_train, cv = 10, scoring='f1')\n",
    "print(\"avg f1: \", np.mean(avg_f1))\n",
    "print(\"std f1: \", np.std(avg_f1))"
   ]
  },
  {
   "cell_type": "code",
   "execution_count": 524,
   "metadata": {},
   "outputs": [
    {
     "name": "stdout",
     "output_type": "stream",
     "text": [
      "avg precision:  0.8007910947163431\n",
      "std precision:  0.09176857329122966\n"
     ]
    }
   ],
   "source": [
    "rd_clf = RandomForestClassifier()\n",
    "rd_clf.fit(X_train, y_train)\n",
    "\n",
    "y_pred_rd_clf = rd_clf.predict(X_train)\n",
    "clf_report = classification_report(y_train, y_pred_rd_clf)\n",
    "\n",
    "avg_f1 = cross_val_score(estimator = rd_clf, X = X_train, y =y_train, cv = 10, scoring='f1')\n",
    "print(\"avg f1: \", np.mean(avg_f1))\n",
    "print(\"std f1: \", np.std(avg_f1))"
   ]
  },
  {
   "cell_type": "code",
   "execution_count": 525,
   "metadata": {},
   "outputs": [
    {
     "name": "stdout",
     "output_type": "stream",
     "text": [
      "avg precision:  0.7877334676202021\n",
      "std precision:  0.14831277439696502\n"
     ]
    }
   ],
   "source": [
    "ada = AdaBoostClassifier(base_estimator = dtc)\n",
    "ada.fit(X_train, y_train)\n",
    "\n",
    "y_pred_ada = ada.predict(X_train)\n",
    "clf_report = classification_report(y_train, y_pred_ada)\n",
    "\n",
    "avg_f1 = cross_val_score(estimator = ada, X = X_train, y =y_train, cv = 10, scoring='f1')\n",
    "print(\"avg f1: \", np.mean(avg_f1))\n",
    "print(\"std f1: \", np.std(avg_f1))"
   ]
  },
  {
   "cell_type": "code",
   "execution_count": 563,
   "metadata": {},
   "outputs": [
    {
     "name": "stdout",
     "output_type": "stream",
     "text": [
      "avg precision:  0.7599662564428785\n",
      "std precision:  0.2738144481417969\n"
     ]
    }
   ],
   "source": [
    "xgb = XGBClassifier()\n",
    "xgb.fit(X_train, y_train)\n",
    "\n",
    "y_pred_xgb = xgb.predict(X_train)\n",
    "clf_report = classification_report(y_train, y_pred_xgb)\n",
    "\n",
    "avg_f1 = cross_val_score(estimator = xgb, X = X_train, y =y_train, cv = 10, scoring='f1')\n",
    "print(\"avg f1: \", np.mean(avg_f1))\n",
    "print(\"std f1: \", np.std(avg_f1))"
   ]
  },
  {
   "cell_type": "markdown",
   "metadata": {},
   "source": [
    "The random forest classifier seem to be performing the best.  \n",
    "For this reason hyperparameter optimization was done on this model, using Bayesian search, using the f1 score to fit the parameters in order to focus more on the positive event."
   ]
  },
  {
   "cell_type": "code",
   "execution_count": 587,
   "metadata": {},
   "outputs": [],
   "source": [
    "# Model parameters\n",
    "from random import random\n",
    "\n",
    "max_depth = list(np.arange(10,500, 10))\n",
    "max_depth.append(None)\n",
    "n_estimators = list(np.arange(10,200, 10))\n",
    "criterion = ['gini', 'entropy']\n",
    "max_features = list(np.arange(5,50, 5))\n",
    "max_features.append(None)\n",
    "max_leaf_nodes = list(np.arange(4,100, 2))\n",
    "max_leaf_nodes.append(None)\n",
    "min_samples_split = list(np.arange(2,30, 2))\n",
    "min_samples_split.append(None)\n",
    "\n",
    "pipe = Pipeline([\n",
    "    ('reg', RandomForestClassifier())\n",
    "    ])\n",
    "param_grid = [\n",
    "    {\n",
    "        'reg': [RandomForestClassifier(random_state = 123)],\n",
    "        'reg__n_estimators': n_estimators,\n",
    "        'reg__criterion': criterion,\n",
    "        'reg__max_depth': max_depth,\n",
    "        'reg__max_features': max_features,\n",
    "        'reg__warm_start': [True], \n",
    "        'reg__min_samples_split': min_samples_split,\n",
    "        'reg__n_jobs': [-1],\n",
    "        'reg__max_leaf_nodes': max_leaf_nodes,\n",
    "        'reg__bootstrap': [True]\n",
    "    },\n",
    "]\n",
    "grid_pipeline = BayesSearchCV(pipe,param_grid, cv = KFold(10, random_state=123, shuffle = True), n_jobs=-1, n_iter=50, return_train_score=True, random_state = 123, scoring = 'f1')"
   ]
  },
  {
   "cell_type": "code",
   "execution_count": 588,
   "metadata": {},
   "outputs": [],
   "source": [
    "grid_pipeline.fit(X_train,y_train)\n",
    "best_model = grid_pipeline.best_estimator_\n",
    "print('F1 score is: {}'.format(round(grid_pipeline.best_score_, 2)))"
   ]
  },
  {
   "cell_type": "markdown",
   "metadata": {},
   "source": [
    "The following model resulted in the best score after using 10-fold crossvalidation:"
   ]
  },
  {
   "cell_type": "code",
   "execution_count": 596,
   "metadata": {},
   "outputs": [
    {
     "name": "stdout",
     "output_type": "stream",
     "text": [
      "OrderedDict([('reg', RandomForestClassifier(max_depth=30, max_features=40, max_leaf_nodes=94,\n",
      "                       n_estimators=160, n_jobs=-1, random_state=123,\n",
      "                       warm_start=True)), ('reg__bootstrap', True), ('reg__max_depth', 30), ('reg__max_features', 40), ('reg__max_leaf_nodes', 94), ('reg__n_estimators', 160), ('reg__n_jobs', -1), ('reg__warm_start', True)])\n"
     ]
    }
   ],
   "source": [
    "print(grid_pipeline.best_params_)"
   ]
  },
  {
   "cell_type": "markdown",
   "metadata": {},
   "source": [
    "On the test set, the model performs as follows:"
   ]
  },
  {
   "cell_type": "code",
   "execution_count": 592,
   "metadata": {},
   "outputs": [
    {
     "name": "stdout",
     "output_type": "stream",
     "text": [
      "Classification Report : \n",
      "              precision    recall  f1-score   support\n",
      "\n",
      "           0       0.86      0.77      0.81     25592\n",
      "           1       0.37      0.52      0.43      6503\n",
      "\n",
      "    accuracy                           0.72     32095\n",
      "   macro avg       0.61      0.65      0.62     32095\n",
      "weighted avg       0.76      0.72      0.74     32095\n",
      "\n",
      "Average precision is : 0.29\n"
     ]
    }
   ],
   "source": [
    "grid_pipeline_pred = grid_pipeline.predict(X_test)\n",
    "clf_report = classification_report(y_test, grid_pipeline_pred)\n",
    "print(f\"Classification Report : \\n{clf_report}\")\n",
    "print(f\"Average precision is : {round(metrics.average_precision_score(y_test, grid_pipeline_pred), 2)}\")"
   ]
  },
  {
   "cell_type": "markdown",
   "metadata": {},
   "source": [
    "ROC curves were subsequently generated to evaluate the performance of the model on both the training and the test set."
   ]
  },
  {
   "cell_type": "code",
   "execution_count": 593,
   "metadata": {},
   "outputs": [
    {
     "data": {
      "image/png": "[encoded data removed]",
      "text/plain": [
       "<Figure size 1500x500 with 2 Axes>"
      ]
     },
     "metadata": {},
     "output_type": "display_data"
    }
   ],
   "source": [
    "fig, (ax1, ax2) = plt.subplots(ncols=2, figsize = (15,5))\n",
    "\n",
    "pre_y_train = grid_pipeline.predict_proba(X_train)[:,1]\n",
    "fpr_train, tpr_train, _ =metrics.roc_curve(y_train, pre_y_train)\n",
    "aucval_train = metrics.auc(fpr_train, tpr_train)\n",
    "ax1.plot(fpr_train, tpr_train,\"r\",linewidth = 2)\n",
    "ax1.text(0.20,0.9,\"AUC = \"+str(round(aucval_train, 2)), size = 11)\n",
    "ax1.set_title(\"Random Forest (train)\")\n",
    "\n",
    "pre_y_test = grid_pipeline.predict_proba(X_test)[:,1]\n",
    "fpr_test, tpr_test, _ =metrics.roc_curve(y_test, pre_y_test)\n",
    "aucval_test = metrics.auc(fpr_test, tpr_test)\n",
    "ax2.plot(fpr_test, tpr_test,\"r\",linewidth = 2)\n",
    "ax2.text(0.35,0.9,\"AUC = \"+str(round(aucval_test, 2)), size = 11)\n",
    "ax2.set_title(\"Random Forest (test)\")\n",
    "\n",
    "for ax in [ax1, ax2]:\n",
    "    ax.plot([0, 1], [0, 1], 'k--')\n",
    "    ax.grid()\n",
    "    ax.set_xlabel (\"False positive rate\")\n",
    "    ax.set_ylabel (\"True positive rate\")\n",
    "    ax.set_xlim(0, 1)\n",
    "    ax.set_ylim(0, 1)\n",
    "    "
   ]
  },
  {
   "cell_type": "markdown",
   "metadata": {},
   "source": [
    "To evaluate which features contributed most to a no-show, feature importance was extracted from the model.  \n",
    "This showed that the biggest contributing factor was the difference between the date of scheduling and the date of the appointment. Other contributing factors were the age of the patient, if they had previously missed appointments or not and whether or not they received a text notification."
   ]
  },
  {
   "cell_type": "code",
   "execution_count": 594,
   "metadata": {},
   "outputs": [
    {
     "data": {
      "text/html": [
       "<div>\n",
       "<style scoped>\n",
       "    .dataframe tbody tr th:only-of-type {\n",
       "        vertical-align: middle;\n",
       "    }\n",
       "\n",
       "    .dataframe tbody tr th {\n",
       "        vertical-align: top;\n",
       "    }\n",
       "\n",
       "    .dataframe thead th {\n",
       "        text-align: right;\n",
       "    }\n",
       "</style>\n",
       "<table border=\"1\" class=\"dataframe\">\n",
       "  <thead>\n",
       "    <tr style=\"text-align: right;\">\n",
       "      <th></th>\n",
       "      <th>importance</th>\n",
       "    </tr>\n",
       "  </thead>\n",
       "  <tbody>\n",
       "    <tr>\n",
       "      <th>day_diff</th>\n",
       "      <td>0.75</td>\n",
       "    </tr>\n",
       "    <tr>\n",
       "      <th>age</th>\n",
       "      <td>0.18</td>\n",
       "    </tr>\n",
       "    <tr>\n",
       "      <th>noshow_pct</th>\n",
       "      <td>0.03</td>\n",
       "    </tr>\n",
       "    <tr>\n",
       "      <th>apps_missed</th>\n",
       "      <td>0.02</td>\n",
       "    </tr>\n",
       "    <tr>\n",
       "      <th>gender</th>\n",
       "      <td>0.01</td>\n",
       "    </tr>\n",
       "    <tr>\n",
       "      <th>num_app</th>\n",
       "      <td>0.01</td>\n",
       "    </tr>\n",
       "    <tr>\n",
       "      <th>scholarship</th>\n",
       "      <td>0.00</td>\n",
       "    </tr>\n",
       "    <tr>\n",
       "      <th>hipertension</th>\n",
       "      <td>0.00</td>\n",
       "    </tr>\n",
       "    <tr>\n",
       "      <th>diabetes</th>\n",
       "      <td>0.00</td>\n",
       "    </tr>\n",
       "    <tr>\n",
       "      <th>alcoholism</th>\n",
       "      <td>0.00</td>\n",
       "    </tr>\n",
       "    <tr>\n",
       "      <th>sms_received</th>\n",
       "      <td>0.00</td>\n",
       "    </tr>\n",
       "    <tr>\n",
       "      <th>handicap_0</th>\n",
       "      <td>0.00</td>\n",
       "    </tr>\n",
       "    <tr>\n",
       "      <th>handicap_1</th>\n",
       "      <td>0.00</td>\n",
       "    </tr>\n",
       "    <tr>\n",
       "      <th>handicap_2</th>\n",
       "      <td>0.00</td>\n",
       "    </tr>\n",
       "    <tr>\n",
       "      <th>handicap_3</th>\n",
       "      <td>0.00</td>\n",
       "    </tr>\n",
       "    <tr>\n",
       "      <th>handicap_4</th>\n",
       "      <td>0.00</td>\n",
       "    </tr>\n",
       "  </tbody>\n",
       "</table>\n",
       "</div>"
      ],
      "text/plain": [
       "              importance\n",
       "day_diff            0.75\n",
       "age                 0.18\n",
       "noshow_pct          0.03\n",
       "apps_missed         0.02\n",
       "gender              0.01\n",
       "num_app             0.01\n",
       "scholarship         0.00\n",
       "hipertension        0.00\n",
       "diabetes            0.00\n",
       "alcoholism          0.00\n",
       "sms_received        0.00\n",
       "handicap_0          0.00\n",
       "handicap_1          0.00\n",
       "handicap_2          0.00\n",
       "handicap_3          0.00\n",
       "handicap_4          0.00"
      ]
     },
     "execution_count": 594,
     "metadata": {},
     "output_type": "execute_result"
    }
   ],
   "source": [
    "pd.DataFrame(np.round(best_model[0].feature_importances_,2), index =df.drop(['no-show', 'patientid'], axis=1).columns, columns=['importance']).sort_values('importance', ascending=False).sort_values(by='importance', ascending=False).head(20)"
   ]
  }
 ],
 "metadata": {
  "kernelspec": {
   "display_name": "Python 3.9.12 ('no_show')",
   "language": "python",
   "name": "python3"
  },
  "language_info": {
   "codemirror_mode": {
    "name": "ipython",
    "version": 3
   },
   "file_extension": ".py",
   "mimetype": "text/x-python",
   "name": "python",
   "nbconvert_exporter": "python",
   "pygments_lexer": "ipython3",
   "version": "3.9.12"
  },
  "orig_nbformat": 4,
  "vscode": {
   "interpreter": {
    "hash": "6c9ed330dc4982e09f32666d7534e0f15b7a186942a9037d256fcd790c7c86e5"
   }
  }
 },
 "nbformat": 4,
 "nbformat_minor": 2
}
